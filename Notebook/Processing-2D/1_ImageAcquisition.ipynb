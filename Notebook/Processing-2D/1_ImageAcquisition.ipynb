{
 "cells": [
  {
   "cell_type": "markdown",
   "id": "5d2e623e",
   "metadata": {
    "id": "5d2e623e"
   },
   "source": [
    "# Progetto DSIM - Image acquisition\n",
    "\n",
    "---\n",
    "\n",
    "\n",
    "\n",
    "Autori: Ginevra Mariani | Lorenzo Mora | Confalonieri Riccardo <br>\n",
    "E-mail: g.mariani34@campus.unimib.it | l.mora4@campus.unimib.it | r.confalonieri5@campus.unimib.it"
   ]
  },
  {
   "cell_type": "markdown",
   "id": "ul6BnBbkiU8G",
   "metadata": {
    "id": "ul6BnBbkiU8G"
   },
   "source": [
    "Questo notebook implementa una funzione per scattare in automatico le foto necessarie per il progetto. Si è deciso di variare sia l'espressione che le condizioni di luce durante l'acquisizione. <br>\n",
    "Per questo notebook è necessario l'utilizzo della webcam ed è quindi importante eseguirlo localmente e non tramite Colab!"
   ]
  },
  {
   "cell_type": "markdown",
   "id": "101da570",
   "metadata": {
    "id": "101da570"
   },
   "source": [
    "## Import packages"
   ]
  },
  {
   "cell_type": "code",
   "execution_count": null,
   "id": "220ec5e0",
   "metadata": {
    "id": "220ec5e0"
   },
   "outputs": [],
   "source": [
    "import warnings\n",
    "import cv2 as cv\n",
    "# per gestire lo scatto della foto dal video e la scrittura del file\n",
    "from cv2 import VideoCapture, imwrite\n",
    "# per gestire sleep automatico\n",
    "import time\n",
    "# per gestire ii path delle cartelle\n",
    "import os\n",
    "# per pulire output console\n",
    "from IPython.display import clear_output"
   ]
  },
  {
   "cell_type": "markdown",
   "id": "344deb30",
   "metadata": {
    "id": "344deb30"
   },
   "source": [
    "## Acquisizione immagini da streaming video\n",
    "Per ogni utente vengono salvate $100$ immagini diverse, le immagini vengono scattate ogni due secondi. Durante l'attesa viene visualizzata una finestra esterna con lo streaming dei frame per facilitare l'acquisizione. Vengono inoltre visualizzati dei messaggi per capire quanto tempo resta prima del prossimo scatto"
   ]
  },
  {
   "cell_type": "code",
   "execution_count": null,
   "id": "46f9f9ae",
   "metadata": {
    "id": "46f9f9ae"
   },
   "outputs": [],
   "source": [
    "def check_folder(folder_name):\n",
    "  \"\"\"\n",
    "  Verifica se esiste una cartella con il nome specificato nel path locale,\n",
    "  se non esiste la crea.\n",
    "  \n",
    "  :param str folder_name: Nome della cartella\n",
    "  \"\"\"\n",
    "\n",
    "  # se non esiste la creo\n",
    "  if not os.path.exists(folder_name):\n",
    "      print(\"----- Creating folder: ./\" + str(folder_name))\n",
    "      os.mkdir(folder_name)\n",
    "\n",
    "# funzione per il salvataggio del file\n",
    "def save_frame(img, name):\n",
    "  \"\"\"\n",
    "  Effettua il salvataggio di un immagine su file\n",
    " \n",
    "  :param numpy.ndarray img: Immagine da salvare\n",
    "  :param str name: nome dell'immagine\n",
    "\n",
    "  :return istante in cui viene salvata l'immagine\n",
    "  :rtype: float\n",
    "  \"\"\"\n",
    "\n",
    "  # definisco il filename come foldername_timestamp\n",
    "  t = time.localtime()\n",
    "  timestamp = time.strftime('%m-%d-%Y_%H%M%S', t)\n",
    "  img_name = name + \"_\" + str(timestamp) + \".jpg\"\n",
    "\n",
    "  # scrittura dell'immagine su file\n",
    "  imwrite(name + \"/\" + img_name, img)\n",
    "  print(\"Immagine\", img_name, 'salvata!')\n",
    "  \n",
    "  return time.time() # ritorno il momento in cui viene salvata l'img"
   ]
  },
  {
   "cell_type": "code",
   "execution_count": null,
   "id": "ff597718",
   "metadata": {
    "id": "ff597718"
   },
   "outputs": [],
   "source": [
    "def img_acquisition_windows(name, num_img = 100, wait_time = 2):\n",
    "    \"\"\"\n",
    "    Visualizza una finestra con la riproduzione streaming catturata dalla camera principale\n",
    "    del pc. Il frame catturato viene quindi salvato nel path locale col nome definito\n",
    "    \n",
    "    :param str name: nome cartella dove salvare gli audio il path sarà (./nome_cartella)\n",
    "    :param int num_img: numero di immagini da catturare\n",
    "    :param int wait_time: secondi di attesa tra un immagine e l'altra\n",
    "    \"\"\"\n",
    "\n",
    "    # verifico se esiste la cartella di destinazione delle foto\n",
    "    check_folder(name)\n",
    "    \n",
    "    # inizializzo la camera\n",
    "    cam = VideoCapture(0)\n",
    "        \n",
    "    print('-------------- Inizio acquisizione --------------')\n",
    "    \n",
    "    i = 0\n",
    "    \n",
    "    # salvo il tempo di inizio, scattero un immagine ogni tot secondi \n",
    "    old_time = time.time()\n",
    "    salva = False # boolean per sapere se salvare il frame o no\n",
    "    \n",
    "    while(True):\n",
    "        # Catturo un nuovo frame\n",
    "        r, frame = cam.read()\n",
    "        \n",
    "        # se sono passati tot secondi salvo il frame\n",
    "        if time.time() - old_time >= wait_time:\n",
    "            salva = True\n",
    "        # se la prossima immagine verrà salvata visualizzo il messaggio a video           \n",
    "        elif time.time() - old_time >= wait_time - 0.3: \n",
    "            cv.putText(frame, \n",
    "                       (\"Scatto immagine numero: \" + str(i)), \n",
    "                       ((5, 30)), \n",
    "                       cv.FONT_HERSHEY_SIMPLEX,0.8,(0,0,255),2)     \n",
    "        # visualizzo quanti secondi rimangono prima del prossimo scatto  \n",
    "        else:\n",
    "            time_next_img = round(wait_time - (time.time() - old_time),3)\n",
    "            cv.putText(frame, \n",
    "                       (\"Tempo prima della prossima immagine: \" + str(time_next_img)), \n",
    "                       ((5, 30)), \n",
    "                       cv.FONT_HERSHEY_SIMPLEX,0.8,(0,255,255),2)\n",
    "  \n",
    "        # se sono passatti tot secondi salvo la nuova immagine\n",
    "        if salva:\n",
    "            # Salvo il contenuto del frame\n",
    "            old_time = save_frame(frame, name)\n",
    "            i = i + 1 # aumento il contatore delle immagini\n",
    "            # stampa di controllo\n",
    "            print('-------- Acquisita immagine numero:', str(i), \n",
    "                  ' -------- Mancano', str(num_img-i), 'immagini da acquisire')\n",
    "            \n",
    "            salva = False\n",
    "\n",
    "        \n",
    "        # Visualizzo il frame nella finestra esterna\n",
    "        cv.imshow('Acquisizione immagini', frame)\n",
    "            \n",
    "        # Interrupt when Q key is pressed\n",
    "        if cv.waitKey(20) & 0xFF == ord('q'):\n",
    "            break\n",
    "        # interrompo se ho catturato il numero di immagini richieste\n",
    "        if i == num_img:\n",
    "            break\n",
    "        \n",
    "        # ogni 5 immagini salvate pulisco l'output per semplicità\n",
    "        if i%5 == 0:\n",
    "            clear_output()\n",
    "    \n",
    "    # rilascio la cam e distruggo le finestre aperte\n",
    "    cam.release()\n",
    "    cv.destroyAllWindows()"
   ]
  },
  {
   "cell_type": "code",
   "execution_count": null,
   "id": "789ef1e2",
   "metadata": {
    "id": "789ef1e2"
   },
   "outputs": [],
   "source": [
    "img_acquisition_windows('Riccardo') # acquisisco le foto"
   ]
  },
  {
   "cell_type": "code",
   "execution_count": 2,
   "id": "H0dVyZq0GTP8",
   "metadata": {
    "colab": {
     "base_uri": "https://localhost:8080/"
    },
    "executionInfo": {
     "elapsed": 4011,
     "status": "ok",
     "timestamp": 1644440409485,
     "user": {
      "displayName": "Riccardo Confalonieri",
      "photoUrl": "https://lh3.googleusercontent.com/a/default-user=s64",
      "userId": "05953771849724216239"
     },
     "user_tz": -60
    },
    "id": "H0dVyZq0GTP8",
    "outputId": "9783ae93-7a73-4f76-99fa-7f549347934a"
   },
   "outputs": [
    {
     "name": "stdout",
     "output_type": "stream",
     "text": [
      "[NbConvertApp] Converting notebook /content/drive/MyDrive/Confalonieri_Mariani_Mora_DSIM/Notebook/Processing-2D/1_ImageAcquisition.ipynb to html\n",
      "[NbConvertApp] Writing 291874 bytes to /content/drive/MyDrive/Confalonieri_Mariani_Mora_DSIM/Notebook/Processing-2D/1_ImageAcquisition.html\n"
     ]
    },
    {
     "data": {
      "text/plain": []
     },
     "execution_count": 2,
     "metadata": {},
     "output_type": "execute_result"
    }
   ],
   "source": [
    "# download notebook in .html extension\n",
    "%%shell\n",
    "jupyter nbconvert --to html '/content/drive/MyDrive/Confalonieri_Mariani_Mora_DSIM/Notebook/Processing-2D/1_ImageAcquisition.ipynb'"
   ]
  },
  {
   "cell_type": "code",
   "execution_count": null,
   "id": "WppP1ucZ8nGw",
   "metadata": {
    "id": "WppP1ucZ8nGw"
   },
   "outputs": [],
   "source": []
  }
 ],
 "metadata": {
  "colab": {
   "collapsed_sections": [],
   "name": "1_ImageAcquisition.ipynb",
   "provenance": []
  },
  "kernelspec": {
   "display_name": "Python 3 (ipykernel)",
   "language": "python",
   "name": "python3"
  },
  "language_info": {
   "codemirror_mode": {
    "name": "ipython",
    "version": 3
   },
   "file_extension": ".py",
   "mimetype": "text/x-python",
   "name": "python",
   "nbconvert_exporter": "python",
   "pygments_lexer": "ipython3",
   "version": "3.9.9"
  }
 },
 "nbformat": 4,
 "nbformat_minor": 5
}
