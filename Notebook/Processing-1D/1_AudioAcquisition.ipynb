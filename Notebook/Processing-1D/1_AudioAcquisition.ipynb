{
 "cells": [
  {
   "cell_type": "markdown",
   "id": "5d2e623e",
   "metadata": {
    "id": "5d2e623e"
   },
   "source": [
    "# Progetto DSIM - Audio acquisition\n",
    "\n",
    "---\n",
    "\n",
    "\n",
    "\n",
    "Autori: Ginevra Mariani | Lorenzo Mora | Confalonieri Riccardo <br>\n",
    "E-mail: g.mariani34@campus.unimib.it, l.mora4@campus.unimib.it, r.confalonieri5@campus.unimib.it"
   ]
  },
  {
   "cell_type": "code",
   "execution_count": null,
   "id": "220ec5e0",
   "metadata": {
    "id": "220ec5e0"
   },
   "outputs": [],
   "source": [
    "!pip install sounddevice "
   ]
  },
  {
   "cell_type": "code",
   "execution_count": null,
   "id": "1dcf0ba3",
   "metadata": {
    "id": "1dcf0ba3"
   },
   "outputs": [],
   "source": [
    "import sounddevice as sd \n",
    "from scipy.io.wavfile import write\n",
    "import os\n",
    "import time \n",
    "from IPython.display import clear_output "
   ]
  },
  {
   "cell_type": "markdown",
   "id": "587627a9",
   "metadata": {
    "id": "587627a9"
   },
   "source": [
    "## Recording\n",
    "Per ogni utente vengono registrati $100$ audio diversi, ognuno della durata di $5$ secondi. Ogni audio è registrato in maniera automatica dal sistema, tra un audio e l'altro è fissata una pausa di $2$ secondi. Ogni utente ha recitato parti diverse tratte da alcuni libri. <br>\n",
    "Inizialmente non viene introdotto nessun disturbo negli audio."
   ]
  },
  {
   "cell_type": "code",
   "execution_count": null,
   "id": "5f75946a",
   "metadata": {
    "id": "5f75946a"
   },
   "outputs": [],
   "source": [
    "def check_folder(folder_name):\n",
    "  \"\"\"\n",
    "  Verifica la presenza di una cartella, alternativamente la crea\n",
    "  :param str folder_name: path della cartella\n",
    "  \"\"\"\n",
    "    if not os.path.exists(folder_name):\n",
    "        print(\"----- Creating folder: ./\" + str(folder_name))\n",
    "        os.mkdir(folder_name)"
   ]
  },
  {
   "cell_type": "code",
   "execution_count": null,
   "id": "d858e33f",
   "metadata": {
    "id": "d858e33f"
   },
   "outputs": [],
   "source": [
    "def my_recording(folder_name, num_rec = 100, duration = 5, sample_rate = 44100, noise = False):\n",
    "  \"\"\"\n",
    "  Registra e salva gli audio\n",
    "  :param folder_name: nome cartella dove salvare gli audio il path sarà (./nome_cartella)\n",
    "  :param num_rec: numero di audio da registrare\n",
    "  :param duration: durata di ogni singolo audio\n",
    "  :param samplerate: frequenza di campionamento, default = 44100\n",
    "  :param noise: variabile booleana che indica se introdurre disturbi prima di salvare l'audio\n",
    "\n",
    "  \"\"\"\n",
    "    check_folder(folder_name) \n",
    "    \n",
    "    print('-------------- Inizio registrazione --------------')\n",
    "    \n",
    "    time.sleep(2)\n",
    "    \n",
    "    # Salvataggio numero di audio richiesto\n",
    "    for i in range(num_rec):\n",
    "        clear_output()\n",
    "        print('-------- Recording audio numero:', str(i))\n",
    "        # Registrazione l'audio in modalità mono canale\n",
    "        audio = sd.rec(int(duration * sample_rate), samplerate=sample_rate, channels=1)\n",
    "        \n",
    "        sd.wait() \n",
    "        \n",
    "        # Possibilità di aggiunta rumore\n",
    "        if noise:\n",
    "            print(\"-------- Aggiunta rumore all'audio numero:\", str(i))\n",
    "            \n",
    "        print('-------- Registrazione audio numero:', str(i), 'terminata!')\n",
    "        \n",
    "        \n",
    "        # Nome audio\n",
    "        t = time.localtime()\n",
    "        timestamp = time.strftime('%m-%d-%Y_%H%M%S', t)\n",
    "\n",
    "        filename = folder_name + '_' + str(timestamp)\n",
    "        # Salvataggio audio\n",
    "        write(folder_name + '/' + filename + '.wav', sample_rate, audio)   \n",
    "        \n",
    "        print('-------- Audio numero:', str(i), 'salvato!')\n",
    "        time.sleep(1.5) # tempo di attesa\n",
    "    "
   ]
  },
  {
   "cell_type": "code",
   "execution_count": null,
   "id": "a4675401",
   "metadata": {
    "id": "a4675401"
   },
   "outputs": [],
   "source": [
    "# Recording\n",
    "my_recording('Riccardo')"
   ]
  },
  {
   "cell_type": "code",
   "execution_count": null,
   "id": "ff597718",
   "metadata": {
    "id": "ff597718"
   },
   "outputs": [],
   "source": [
    "my_recording('Ginevra')"
   ]
  },
  {
   "cell_type": "code",
   "execution_count": null,
   "id": "cm63lQJJADn5",
   "metadata": {
    "id": "cm63lQJJADn5"
   },
   "outputs": [],
   "source": [
    "my_recording('lorenzo')"
   ]
  },
  {
   "cell_type": "code",
   "execution_count": 3,
   "id": "uJYBvk8IQ1sl",
   "metadata": {
    "colab": {
     "base_uri": "https://localhost:8080/"
    },
    "executionInfo": {
     "elapsed": 2822,
     "status": "ok",
     "timestamp": 1644440118833,
     "user": {
      "displayName": "Riccardo Confalonieri",
      "photoUrl": "https://lh3.googleusercontent.com/a/default-user=s64",
      "userId": "05953771849724216239"
     },
     "user_tz": -60
    },
    "id": "uJYBvk8IQ1sl",
    "outputId": "40ffc553-dcb0-417b-df42-c3a9f33bb1e5"
   },
   "outputs": [
    {
     "name": "stdout",
     "output_type": "stream",
     "text": [
      "[NbConvertApp] Converting notebook /content/drive/MyDrive/Confalonieri_Mariani_Mora_DSIM/Notebook/Processing-1D/1_AudioAcquisition.ipynb to html\n",
      "[NbConvertApp] Writing 296041 bytes to /content/drive/MyDrive/Confalonieri_Mariani_Mora_DSIM/Notebook/Processing-1D/1_AudioAcquisition.html\n"
     ]
    },
    {
     "data": {
      "text/plain": []
     },
     "execution_count": 3,
     "metadata": {},
     "output_type": "execute_result"
    }
   ],
   "source": [
    "# download notebook in .html extension\n",
    "%%shell\n",
    "jupyter nbconvert --to html '/content/drive/MyDrive/Confalonieri_Mariani_Mora_DSIM/Notebook/Processing-1D/1_AudioAcquisition.ipynb'"
   ]
  },
  {
   "cell_type": "code",
   "execution_count": null,
   "id": "DafnkrmDRDz3",
   "metadata": {
    "id": "DafnkrmDRDz3"
   },
   "outputs": [],
   "source": []
  }
 ],
 "metadata": {
  "colab": {
   "collapsed_sections": [],
   "name": "1_AudioAcquisition.ipynb",
   "provenance": []
  },
  "kernelspec": {
   "display_name": "Python 3 (ipykernel)",
   "language": "python",
   "name": "python3"
  },
  "language_info": {
   "codemirror_mode": {
    "name": "ipython",
    "version": 3
   },
   "file_extension": ".py",
   "mimetype": "text/x-python",
   "name": "python",
   "nbconvert_exporter": "python",
   "pygments_lexer": "ipython3",
   "version": "3.9.9"
  }
 },
 "nbformat": 4,
 "nbformat_minor": 5
}
